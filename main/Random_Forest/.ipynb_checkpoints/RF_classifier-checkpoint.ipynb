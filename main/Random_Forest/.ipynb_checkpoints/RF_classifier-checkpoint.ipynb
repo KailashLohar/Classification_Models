{
 "cells": [
  {
   "cell_type": "markdown",
   "id": "13a30d19-db1b-4f4b-8058-3c3745fd5455",
   "metadata": {},
   "source": [
    "<div style=\"display: flex; align-items: center;\">\n",
    "    <span style=\"font-size: 24px; color: #003366; font-weight: 500;\">Predicting Molecule Binding using Random Forest</span>\n",
    "    <img src=\"../logo.svg\" style=\"height: 50px; width: auto; margin-left: auto;\"/>\n",
    "</div>"
   ]
  },
  {
   "cell_type": "code",
   "execution_count": null,
   "id": "36c11557-0c1c-4677-9842-5172ed436ca7",
   "metadata": {},
   "outputs": [],
   "source": [
    "import os\n",
    "import sys\n",
    "import torch\n",
    "import psutil\n",
    "import warnings\n",
    "import subprocess\n",
    "import numpy as np\n",
    "import pandas as pd\n",
    "import matplotlib.pyplot as plt\n",
    "\n",
    "from rdkit import Chem, DataStructs\n",
    "from rdkit.Chem import AllChem, Descriptors\n",
    "from rdkit.Chem.rdFingerprintGenerator import GetMorganGenerator\n",
    "\n",
    "from sklearn.manifold import TSNE\n",
    "from sklearn.utils import resample\n",
    "from sklearn.metrics import confusion_matrix\n",
    "from sklearn.preprocessing import MinMaxScaler\n",
    "from sklearn.ensemble import RandomForestClassifier\n",
    "from sklearn.model_selection import KFold, cross_val_predict, train_test_split\n",
    "\n",
    "from joblib import dump, load\n",
    "from standardiser import break_bonds, neutralise, unsalt, standardise\n",
    "\n",
    "warnings.filterwarnings(\"ignore\")\n",
    "pd.set_option('display.max_rows', None)\n",
    "pd.set_option('display.max_columns', None)"
   ]
  },
  {
   "cell_type": "markdown",
   "id": "18242eca-c9c0-435f-87b5-8c43b8d3da60",
   "metadata": {},
   "source": [
    "<div style=\"background-color:#4B6587; color:#F0E5CF; padding: 1px; border-radius: 10px;\">\n",
    "    <h2 style=\"font-size: 16px; margin-left: 10px;\"> Step 1: Check system availability </h2>\n",
    "</div>"
   ]
  },
  {
   "cell_type": "code",
   "execution_count": null,
   "id": "27d5afba-341b-4cd8-848a-7eddda095b07",
   "metadata": {},
   "outputs": [],
   "source": [
    "def check_availability():\n",
    "    if \"CUDA_VISIBLE_DEVICES\" not in os.environ:\n",
    "        os.environ[\"CUDA_VISIBLE_DEVICES\"] = \"0\"\n",
    "\n",
    "    if torch.cuda.is_available():\n",
    "        device = torch.device(\"cuda\")\n",
    "        gpu_info = os.popen('nvidia-smi --query-gpu=utilization.gpu --format=csv,noheader,nounits').readlines()\n",
    "        gpu_available = 100 - int(gpu_info[0].strip())\n",
    "        gpu_result = f\"\\033[1m\\033[34mGPU availability: \\033[91m{gpu_available:.2f}%\\033[0m\"\n",
    "    else:\n",
    "        device = torch.device(\"cpu\")\n",
    "        gpu_result = 'GPU is not available, using CPU instead'\n",
    "\n",
    "    cpu_percentage = psutil.cpu_percent()\n",
    "    cpu_available = 100 - cpu_percentage\n",
    "    cpu_result = f\"\\033[1m\\033[34mCPU availability: \\033[91m{cpu_available:.2f}%\\033[0m\"\n",
    "    \n",
    "    print(gpu_result)\n",
    "    print(cpu_result)\n",
    "    return device\n",
    "\n",
    "device = check_availability()"
   ]
  },
  {
   "cell_type": "markdown",
   "id": "3f686901-305f-46b6-bdd5-1f65b3f80a03",
   "metadata": {},
   "source": [
    "<div style=\"background-color:#4B6587; color:#F0E5CF; padding: 1px; border-radius: 10px;\">\n",
    "    <h2 style=\"font-size: 16px; margin-left: 10px;\"> Step 1: Load data </h2>\n",
    "</div>"
   ]
  },
  {
   "cell_type": "code",
   "execution_count": null,
   "id": "09a27699-fb3a-4a4d-8433-17b56cd87cc7",
   "metadata": {},
   "outputs": [],
   "source": [
    "df = pd.read_csv('../data/leash_bio_brd4.csv')\n",
    "display(df.head())\n",
    "print(df.shape)"
   ]
  },
  {
   "cell_type": "markdown",
   "id": "a21524f5-7855-4cd3-a889-c081d05883f8",
   "metadata": {},
   "source": [
    "<div style=\"background-color:#4B6587; color:#F0E5CF; padding: 1px; border-radius: 10px;\">\n",
    "    <h2 style=\"font-size: 16px; margin-left: 10px;\"> Step 3: Remove salts and standardise smiles </h2>\n",
    "</div>"
   ]
  },
  {
   "cell_type": "code",
   "execution_count": null,
   "id": "9393afaf-1296-4d28-bd9c-ee3da348b805",
   "metadata": {},
   "outputs": [],
   "source": [
    "def remove_salts(df):\n",
    "    def remove_salt(smiles):\n",
    "        mol = Chem.MolFromSmiles(smiles)\n",
    "        if mol is None:\n",
    "            return ''\n",
    "        \n",
    "        mol = break_bonds.run(mol)\n",
    "        mol = neutralise.run(mol)\n",
    "        non_salt_frags = []\n",
    "        for frag in Chem.GetMolFrags(mol, asMols=True):        \n",
    "            if unsalt.is_nonorganic(frag): \n",
    "                continue \n",
    "            if unsalt.is_salt(frag): \n",
    "                continue      \n",
    "            non_salt_frags.append(frag)\n",
    "        \n",
    "        non_salt_smiles = [Chem.MolToSmiles(frag) for frag in non_salt_frags]\n",
    "        non_salt_smiles = '.'.join(non_salt_smiles) \n",
    "\n",
    "        try:\n",
    "            mol = Chem.MolFromSmiles(non_salt_smiles)\n",
    "            standard_mol = standardise.run(mol)\n",
    "            standard_smiles = Chem.MolToSmiles(standard_mol)\n",
    "            return standard_smiles\n",
    "        except standardise.StandardiseException as e:\n",
    "            return None\n",
    "    \n",
    "    initial_count = len(df)\n",
    "    df['SMILES_unsalt'] = df['SMILES'].apply(remove_salt)\n",
    "    df_unsalt = df.dropna(subset=['SMILES_unsalt'])\n",
    "    df_unsalt = df_unsalt.drop(columns=['SMILES'])\n",
    "    df_unsalt = df_unsalt.rename(columns={'SMILES_unsalt': 'SMILES'})\n",
    "    final_count = len(df_unsalt)\n",
    "    print(f\"\\033[1m\\033[34mNumber of datapoints removed: \\033[91m{initial_count - final_count}\\033[0m\")\n",
    "    print(f\"\\033[1m\\033[34mNumber of datapoints remaining: \\033[91m{final_count}\\033[0m\")\n",
    "    return df_unsalt, initial_count, final_count\n",
    "\n",
    "df_remove_salts, initial_count, after_salts_count = remove_salts(df)"
   ]
  },
  {
   "cell_type": "code",
   "execution_count": null,
   "id": "00221c92-2a07-435d-b78c-07261893e2c4",
   "metadata": {},
   "outputs": [],
   "source": [
    "df = df_remove_salts.copy()\n",
    "df = df[['id', 'SMILES', 'Target']]\n",
    "\n",
    "display(df.head())\n",
    "print(df.shape)"
   ]
  },
  {
   "cell_type": "markdown",
   "id": "4b912f7d-e0c3-49cc-8448-92bc666dd1e9",
   "metadata": {},
   "source": [
    "<div style=\"background-color:#4B6587; color:#F0E5CF; padding: 1px; border-radius: 10px;\">\n",
    "    <h2 style=\"font-size: 16px; margin-left: 10px;\"> Step 4: Balance dataset </h2>\n",
    "</div>"
   ]
  },
  {
   "cell_type": "code",
   "execution_count": null,
   "id": "3ef44c97-f98d-403b-adc9-764581768a60",
   "metadata": {},
   "outputs": [],
   "source": [
    "df['Target'].value_counts()"
   ]
  },
  {
   "cell_type": "code",
   "execution_count": null,
   "id": "2a4d5a53-a557-4519-8a60-b1f64e6afe95",
   "metadata": {},
   "outputs": [],
   "source": [
    "df_majority = df[df['Target'] == 0]\n",
    "df_minority = df[df['Target'] == 1]\n",
    "\n",
    "df_majority_downsampled = resample(df_majority, replace=False, n_samples=df_minority.shape[0], random_state=42)\n",
    "df = pd.concat([df_majority_downsampled, df_minority])\n",
    "df = df.sample(frac=1, random_state=42).reset_index(drop=True)\n",
    "df['Target'].value_counts()"
   ]
  },
  {
   "cell_type": "markdown",
   "id": "586ec53c-b642-4ebe-8843-94d81fbabf18",
   "metadata": {},
   "source": [
    "<div style=\"background-color:#4B6587; color:#F0E5CF; padding: 1px; border-radius: 10px;\">\n",
    "    <h2 style=\"font-size: 16px; margin-left: 10px;\"> Step 5: Train-Test split </h2>\n",
    "</div>"
   ]
  },
  {
   "cell_type": "code",
   "execution_count": null,
   "id": "16b9cf30-cb58-4e32-a7f5-5723d5d73891",
   "metadata": {},
   "outputs": [],
   "source": [
    "train_df, test_df = train_test_split(df, test_size=0.1, random_state=42, stratify=df['Target'])\n",
    "\n",
    "print(\"Train Data\")\n",
    "display(train_df.head())\n",
    "print(train_df.shape)\n",
    "\n",
    "print(\"-\" * 80)\n",
    "print(\"Test Data\")\n",
    "display(test_df.head())\n",
    "print(test_df.shape)"
   ]
  },
  {
   "cell_type": "markdown",
   "id": "a40c6072-9dfa-428a-9093-eb0ef2ec6742",
   "metadata": {},
   "source": [
    "<div style=\"background-color:#4B6587; color:#F0E5CF; padding: 1px; border-radius: 10px;\">\n",
    "    <h2 style=\"font-size: 16px; margin-left: 10px;\"> Step 6: Visualise train-test data </h2>\n",
    "</div>"
   ]
  },
  {
   "cell_type": "code",
   "execution_count": null,
   "id": "1e31dd6a-1056-45bb-a001-d37187dd4a03",
   "metadata": {},
   "outputs": [],
   "source": [
    "def generate_ecfp(smiles_list, radius=2, n_bits=2048):\n",
    "    ecfp_list = []\n",
    "    generator = GetMorganGenerator(radius=radius, fpSize=n_bits)\n",
    "    for smiles in smiles_list:\n",
    "        mol = Chem.MolFromSmiles(smiles)\n",
    "        if mol:\n",
    "            ecfp = generator.GetFingerprint(mol)\n",
    "            ecfp_list.append(np.array(ecfp))\n",
    "        else:\n",
    "            ecfp_list.append(np.zeros(n_bits))\n",
    "    return np.array(ecfp_list)\n",
    "\n",
    "X_train = generate_ecfp(train_df['SMILES'])\n",
    "X_test = generate_ecfp(test_df['SMILES'])\n",
    "y_train = train_df['Target']\n",
    "y_test = test_df['Target']\n",
    "\n",
    "tsne = TSNE(n_components=2, random_state=42)\n",
    "tsne_results = tsne.fit_transform(np.vstack((X_train, X_test)))\n",
    "tsne_train = tsne_results[:len(X_train)]\n",
    "tsne_test = tsne_results[len(X_train):]\n",
    "\n",
    "plt.figure(figsize=(6, 6))\n",
    "plt.scatter(tsne_train[:, 0], tsne_train[:, 1], c='#7b1fa2', label=f'Train Data (n={len(X_train)})', s=10, alpha=0.7)\n",
    "plt.scatter(tsne_test[:, 0], tsne_test[:, 1], c='#ff6f00', label=f'Test Data (n={len(X_test)})', s=10, alpha=1)\n",
    "plt.title('t-SNE plot of Train and Test Data')\n",
    "plt.xlabel('t-SNE Component 1')\n",
    "plt.ylabel('t-SNE Component 2')\n",
    "plt.legend()\n",
    "os.makedirs('model_files/rf_classifier', exist_ok=True)\n",
    "plt.savefig('model_files/rf_classifier/tsne_train_vs_test_data.png', bbox_inches='tight')\n",
    "plt.show()"
   ]
  },
  {
   "cell_type": "markdown",
   "id": "6035963b-e8c6-4b38-bf93-63fb5c21319f",
   "metadata": {},
   "source": [
    "<div style=\"background-color:#4B6587; color:#F0E5CF; padding: 1px; border-radius: 10px;\">\n",
    "    <h2 style=\"font-size: 16px; margin-left: 10px;\"> Step 7: Get the Descriptors </h2>\n",
    "</div>"
   ]
  },
  {
   "cell_type": "code",
   "execution_count": null,
   "id": "92619be2-1f3a-4cf9-bee5-84651a43bb00",
   "metadata": {},
   "outputs": [],
   "source": [
    "def calculate_normalized_descriptors(df, smiles_column='SMILES', missing_val=None):\n",
    "    mols = [Chem.MolFromSmiles(x) for x in df[smiles_column].values.tolist()]\n",
    "    \n",
    "    def get_mol_descriptors(mol, missing_val=None):\n",
    "        res = {}\n",
    "        for nm, fn in Descriptors._descList:\n",
    "            try:\n",
    "                val = fn(mol)\n",
    "            except:\n",
    "                val = missing_val\n",
    "            res[nm] = val\n",
    "        return res\n",
    "\n",
    "    all_descrs = [get_mol_descriptors(m) for m in mols]\n",
    "    df_descriptor = pd.DataFrame(all_descrs)\n",
    "\n",
    "    df_descriptor_normalized = pd.DataFrame(MinMaxScaler().fit_transform(df_descriptor), columns=df_descriptor.columns)\n",
    "    return df_descriptor_normalized\n",
    "\n",
    "df_train = calculate_normalized_descriptors(train_df)\n",
    "print(df_train.shape)"
   ]
  },
  {
   "cell_type": "markdown",
   "id": "06d5ea32-960a-4ea6-9dec-3b73fbdb08ec",
   "metadata": {},
   "source": [
    "<div style=\"background-color:#4B6587; color:#F0E5CF; padding: 1px; border-radius: 10px;\">\n",
    "    <h2 style=\"font-size: 16px; margin-left: 10px;\"> Step 8: Remove reduntant and Highly Correlated Columns </h2>\n",
    "</div>"
   ]
  },
  {
   "cell_type": "code",
   "execution_count": null,
   "id": "2f67e72e-4b43-45ea-98a6-bcc507488894",
   "metadata": {},
   "outputs": [],
   "source": [
    "redundant_columns = df_train.columns[df_train.nunique() == 1]\n",
    "correlation_matrix = df_train.astype(float).corr().abs()\n",
    "correlated_columns = set()\n",
    "for i in range(len(correlation_matrix.columns)):\n",
    "    for j in range(i):\n",
    "        if correlation_matrix.iloc[i, j] > 0.6:\n",
    "            colname = correlation_matrix.columns[i]\n",
    "            correlated_columns.add(colname)\n",
    "\n",
    "df_train = df_train.drop(columns=redundant_columns)\n",
    "df_train = df_train.drop(columns=correlated_columns)\n",
    "training_columns = df_train.columns.tolist()\n",
    "\n",
    "pd.Series(training_columns).to_csv('model_files/rf_classifier/training_columns.csv', index=False)"
   ]
  },
  {
   "cell_type": "markdown",
   "id": "9f8bdaa4-b08a-4251-a714-7b9dc93a8457",
   "metadata": {},
   "source": [
    "<div style=\"background-color:#4B6587; color:#F0E5CF; padding: 1px; border-radius: 10px;\">\n",
    "    <h2 style=\"font-size: 16px; margin-left: 10px;\"> Step 10: Model Training </h2>\n",
    "</div>"
   ]
  },
  {
   "cell_type": "code",
   "execution_count": null,
   "id": "954c3c36-c6ee-42d0-a690-1ef12b79ffe1",
   "metadata": {},
   "outputs": [],
   "source": [
    "X_train = df_train\n",
    "y_train = train_df['Target']\n",
    "\n",
    "best_params = {\n",
    "    'bootstrap': False,\n",
    "    'criterion': 'gini',\n",
    "    'max_depth': 20,\n",
    "    'max_features': 'sqrt',\n",
    "    'max_leaf_nodes': None,\n",
    "    'min_impurity_decrease': 0.0,\n",
    "    'min_samples_leaf': 1,\n",
    "    'min_samples_split': 2,\n",
    "    'min_weight_fraction_leaf': 0.0,\n",
    "    'n_estimators': 300,\n",
    "    'n_jobs': -1,\n",
    "    'oob_score': False,\n",
    "    'random_state': 42,\n",
    "    'verbose': 0\n",
    "}\n",
    "\n",
    "rf_classifier = RandomForestClassifier(**best_params)\n",
    "rf_classifier.fit(X_train, y_train)\n",
    "dump(rf_classifier, f'model_files/rf_classifier/rf_model.joblib')"
   ]
  },
  {
   "cell_type": "markdown",
   "id": "26b56f30-a129-4c22-9620-910450f989ce",
   "metadata": {},
   "source": [
    "<div style=\"background-color:#4B6587; color:#F0E5CF; padding: 1px; border-radius: 10px;\">\n",
    "    <h2 style=\"font-size: 16px; margin-left: 10px;\"> Step 11: Make predition on test data </h2>\n",
    "</div>"
   ]
  },
  {
   "cell_type": "code",
   "execution_count": null,
   "id": "f3311994-7899-4e8a-9927-5eeaecb624f1",
   "metadata": {},
   "outputs": [],
   "source": [
    "rf_model = load('model_files/rf_classifier/rf_model.joblib')\n",
    "\n",
    "training_columns_path = 'model_files/rf_classifier/training_columns.csv'\n",
    "training_columns = pd.read_csv(training_columns_path).squeeze().tolist()\n",
    "\n",
    "df_test = calculate_normalized_descriptors(test_df)\n",
    "df_test = df_test.reindex(columns=training_columns, fill_value=0)\n",
    "predictions = rf_model.predict(df_test)\n",
    "test_df['Target_pred'] = predictions\n",
    "display(test_df.head())\n",
    "print(test_df.shape)"
   ]
  },
  {
   "cell_type": "markdown",
   "id": "75ad4178-1d26-407b-bc6a-87f3be3bcd98",
   "metadata": {},
   "source": [
    "<div style=\"background-color:#4B6587; color:#F0E5CF; padding: 1px; border-radius: 10px;\">\n",
    "    <h2 style=\"font-size: 16px; margin-left: 10px;\"> Step 12: Model Evaluation </h2>\n",
    "</div>"
   ]
  },
  {
   "cell_type": "code",
   "execution_count": null,
   "id": "f33cade1-44ef-40de-b101-443e639ac5e8",
   "metadata": {},
   "outputs": [],
   "source": [
    "sys.path.append(os.path.abspath(\"..\"))\n",
    "from my_cm import *\n",
    "\n",
    "true_labels = test_df['Target']\n",
    "predicted_labels = test_df['Target_pred']\n",
    "cm = confusion_matrix(true_labels, predicted_labels)\n",
    "PrettyConfusionMatrix(cm, labels=('0', '1'), save_path='model_files/rf_classifier/my_confusion_matrix.png')"
   ]
  }
 ],
 "metadata": {
  "kernelspec": {
   "display_name": "Python 3 (ipykernel)",
   "language": "python",
   "name": "python3"
  },
  "language_info": {
   "codemirror_mode": {
    "name": "ipython",
    "version": 3
   },
   "file_extension": ".py",
   "mimetype": "text/x-python",
   "name": "python",
   "nbconvert_exporter": "python",
   "pygments_lexer": "ipython3",
   "version": "3.8.10"
  }
 },
 "nbformat": 4,
 "nbformat_minor": 5
}
